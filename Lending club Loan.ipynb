{
 "cells": [
  {
   "cell_type": "code",
   "execution_count": 2,
   "metadata": {},
   "outputs": [],
   "source": [
    "import pandas as pd\n",
    "import matplotlib.pyplot as plt\n",
    "import numpy as np\n",
    "from dateutil.parser import parse\n",
    "from sklearn.linear_model import LogisticRegression\n",
    "from sklearn.preprocessing import  LabelEncoder\n",
    "from sklearn.model_selection import train_test_split\n",
    "from sklearn.preprocessing import StandardScaler\n",
    "from sklearn.ensemble import RandomForestClassifier\n",
    "from sklearn.metrics import confusion_matrix\n",
    "from sklearn.naive_bayes import GaussianNB\n",
    "from sklearn.tree import DecisionTreeClassifier\n",
    "from sklearn.ensemble import RandomForestClassifier\n",
    "from sklearn import metrics\n",
    "from sklearn.model_selection import cross_val_score\n",
    "from sklearn.neighbors import KNeighborsClassifier\n",
    "from datetime import datetime\n",
    "import seaborn as sns"
   ]
  },
  {
   "cell_type": "code",
   "execution_count": 3,
   "metadata": {},
   "outputs": [
    {
     "name": "stderr",
     "output_type": "stream",
     "text": [
      "C:\\Users\\rishi\\Anaconda3\\envs\\tensorflow\\lib\\site-packages\\IPython\\core\\interactiveshell.py:2728: DtypeWarning: Columns (0) have mixed types. Specify dtype option on import or set low_memory=False.\n",
      "  interactivity=interactivity, compiler=compiler, result=result)\n"
     ]
    },
    {
     "data": {
      "text/html": [
       "<div>\n",
       "<style>\n",
       "    .dataframe thead tr:only-child th {\n",
       "        text-align: right;\n",
       "    }\n",
       "\n",
       "    .dataframe thead th {\n",
       "        text-align: left;\n",
       "    }\n",
       "\n",
       "    .dataframe tbody tr th {\n",
       "        vertical-align: top;\n",
       "    }\n",
       "</style>\n",
       "<table border=\"1\" class=\"dataframe\">\n",
       "  <thead>\n",
       "    <tr style=\"text-align: right;\">\n",
       "      <th></th>\n",
       "      <th>id</th>\n",
       "      <th>member_id</th>\n",
       "      <th>loan_amnt</th>\n",
       "      <th>funded_amnt</th>\n",
       "      <th>funded_amnt_inv</th>\n",
       "      <th>term</th>\n",
       "      <th>int_rate</th>\n",
       "      <th>installment</th>\n",
       "      <th>grade</th>\n",
       "      <th>sub_grade</th>\n",
       "      <th>...</th>\n",
       "      <th>num_tl_90g_dpd_24m</th>\n",
       "      <th>num_tl_op_past_12m</th>\n",
       "      <th>pct_tl_nvr_dlq</th>\n",
       "      <th>percent_bc_gt_75</th>\n",
       "      <th>pub_rec_bankruptcies</th>\n",
       "      <th>tax_liens</th>\n",
       "      <th>tot_hi_cred_lim</th>\n",
       "      <th>total_bal_ex_mort</th>\n",
       "      <th>total_bc_limit</th>\n",
       "      <th>total_il_high_credit_limit</th>\n",
       "    </tr>\n",
       "  </thead>\n",
       "  <tbody>\n",
       "    <tr>\n",
       "      <th>0</th>\n",
       "      <td>10129506</td>\n",
       "      <td>11981122.0</td>\n",
       "      <td>20800.0</td>\n",
       "      <td>20800.0</td>\n",
       "      <td>20800.0</td>\n",
       "      <td>36 months</td>\n",
       "      <td>13.53%</td>\n",
       "      <td>706.16</td>\n",
       "      <td>B</td>\n",
       "      <td>B5</td>\n",
       "      <td>...</td>\n",
       "      <td>0.0</td>\n",
       "      <td>3.0</td>\n",
       "      <td>90.2</td>\n",
       "      <td>50.0</td>\n",
       "      <td>0.0</td>\n",
       "      <td>0.0</td>\n",
       "      <td>43100.0</td>\n",
       "      <td>23473.0</td>\n",
       "      <td>15000.0</td>\n",
       "      <td>0.0</td>\n",
       "    </tr>\n",
       "    <tr>\n",
       "      <th>1</th>\n",
       "      <td>10159498</td>\n",
       "      <td>1319523.0</td>\n",
       "      <td>12000.0</td>\n",
       "      <td>12000.0</td>\n",
       "      <td>12000.0</td>\n",
       "      <td>36 months</td>\n",
       "      <td>6.62%</td>\n",
       "      <td>368.45</td>\n",
       "      <td>A</td>\n",
       "      <td>A2</td>\n",
       "      <td>...</td>\n",
       "      <td>0.0</td>\n",
       "      <td>2.0</td>\n",
       "      <td>95.5</td>\n",
       "      <td>0.0</td>\n",
       "      <td>0.0</td>\n",
       "      <td>0.0</td>\n",
       "      <td>333044.0</td>\n",
       "      <td>42603.0</td>\n",
       "      <td>52600.0</td>\n",
       "      <td>42769.0</td>\n",
       "    </tr>\n",
       "    <tr>\n",
       "      <th>2</th>\n",
       "      <td>10129454</td>\n",
       "      <td>11981072.0</td>\n",
       "      <td>12000.0</td>\n",
       "      <td>12000.0</td>\n",
       "      <td>12000.0</td>\n",
       "      <td>36 months</td>\n",
       "      <td>10.99%</td>\n",
       "      <td>392.81</td>\n",
       "      <td>B</td>\n",
       "      <td>B2</td>\n",
       "      <td>...</td>\n",
       "      <td>0.0</td>\n",
       "      <td>4.0</td>\n",
       "      <td>100.0</td>\n",
       "      <td>0.0</td>\n",
       "      <td>0.0</td>\n",
       "      <td>0.0</td>\n",
       "      <td>29700.0</td>\n",
       "      <td>7137.0</td>\n",
       "      <td>18100.0</td>\n",
       "      <td>0.0</td>\n",
       "    </tr>\n",
       "    <tr>\n",
       "      <th>3</th>\n",
       "      <td>10139658</td>\n",
       "      <td>11991209.0</td>\n",
       "      <td>12000.0</td>\n",
       "      <td>12000.0</td>\n",
       "      <td>12000.0</td>\n",
       "      <td>36 months</td>\n",
       "      <td>13.53%</td>\n",
       "      <td>407.40</td>\n",
       "      <td>B</td>\n",
       "      <td>B5</td>\n",
       "      <td>...</td>\n",
       "      <td>0.0</td>\n",
       "      <td>2.0</td>\n",
       "      <td>81.2</td>\n",
       "      <td>33.3</td>\n",
       "      <td>0.0</td>\n",
       "      <td>0.0</td>\n",
       "      <td>18130.0</td>\n",
       "      <td>13605.0</td>\n",
       "      <td>7000.0</td>\n",
       "      <td>10030.0</td>\n",
       "    </tr>\n",
       "    <tr>\n",
       "      <th>4</th>\n",
       "      <td>10127816</td>\n",
       "      <td>11979581.0</td>\n",
       "      <td>24000.0</td>\n",
       "      <td>24000.0</td>\n",
       "      <td>24000.0</td>\n",
       "      <td>36 months</td>\n",
       "      <td>13.53%</td>\n",
       "      <td>814.80</td>\n",
       "      <td>B</td>\n",
       "      <td>B5</td>\n",
       "      <td>...</td>\n",
       "      <td>0.0</td>\n",
       "      <td>2.0</td>\n",
       "      <td>100.0</td>\n",
       "      <td>75.0</td>\n",
       "      <td>0.0</td>\n",
       "      <td>0.0</td>\n",
       "      <td>229072.0</td>\n",
       "      <td>61397.0</td>\n",
       "      <td>21500.0</td>\n",
       "      <td>58847.0</td>\n",
       "    </tr>\n",
       "  </tbody>\n",
       "</table>\n",
       "<p>5 rows × 115 columns</p>\n",
       "</div>"
      ],
      "text/plain": [
       "         id   member_id  loan_amnt  funded_amnt  funded_amnt_inv        term  \\\n",
       "0  10129506  11981122.0    20800.0      20800.0          20800.0   36 months   \n",
       "1  10159498   1319523.0    12000.0      12000.0          12000.0   36 months   \n",
       "2  10129454  11981072.0    12000.0      12000.0          12000.0   36 months   \n",
       "3  10139658  11991209.0    12000.0      12000.0          12000.0   36 months   \n",
       "4  10127816  11979581.0    24000.0      24000.0          24000.0   36 months   \n",
       "\n",
       "  int_rate  installment grade sub_grade            ...              \\\n",
       "0   13.53%       706.16     B        B5            ...               \n",
       "1    6.62%       368.45     A        A2            ...               \n",
       "2   10.99%       392.81     B        B2            ...               \n",
       "3   13.53%       407.40     B        B5            ...               \n",
       "4   13.53%       814.80     B        B5            ...               \n",
       "\n",
       "  num_tl_90g_dpd_24m num_tl_op_past_12m pct_tl_nvr_dlq  percent_bc_gt_75  \\\n",
       "0                0.0                3.0           90.2              50.0   \n",
       "1                0.0                2.0           95.5               0.0   \n",
       "2                0.0                4.0          100.0               0.0   \n",
       "3                0.0                2.0           81.2              33.3   \n",
       "4                0.0                2.0          100.0              75.0   \n",
       "\n",
       "  pub_rec_bankruptcies tax_liens tot_hi_cred_lim total_bal_ex_mort  \\\n",
       "0                  0.0       0.0         43100.0           23473.0   \n",
       "1                  0.0       0.0        333044.0           42603.0   \n",
       "2                  0.0       0.0         29700.0            7137.0   \n",
       "3                  0.0       0.0         18130.0           13605.0   \n",
       "4                  0.0       0.0        229072.0           61397.0   \n",
       "\n",
       "  total_bc_limit total_il_high_credit_limit  \n",
       "0        15000.0                        0.0  \n",
       "1        52600.0                    42769.0  \n",
       "2        18100.0                        0.0  \n",
       "3         7000.0                    10030.0  \n",
       "4        21500.0                    58847.0  \n",
       "\n",
       "[5 rows x 115 columns]"
      ]
     },
     "execution_count": 3,
     "metadata": {},
     "output_type": "execute_result"
    }
   ],
   "source": [
    "data1 = pd.read_csv('F:\\Masters CS\\kaggle\\Kaggle Datasets Analysis\\Lending Loan Dataset\\LendingClub2012to2013.csv',header=1)\n",
    "\n",
    "#see few rows and describe the dataset\n",
    "data1.head()\n",
    "\n",
    "\n"
   ]
  },
  {
   "cell_type": "code",
   "execution_count": 4,
   "metadata": {},
   "outputs": [
    {
     "data": {
      "text/html": [
       "<div>\n",
       "<style>\n",
       "    .dataframe thead tr:only-child th {\n",
       "        text-align: right;\n",
       "    }\n",
       "\n",
       "    .dataframe thead th {\n",
       "        text-align: left;\n",
       "    }\n",
       "\n",
       "    .dataframe tbody tr th {\n",
       "        vertical-align: top;\n",
       "    }\n",
       "</style>\n",
       "<table border=\"1\" class=\"dataframe\">\n",
       "  <thead>\n",
       "    <tr style=\"text-align: right;\">\n",
       "      <th></th>\n",
       "      <th>member_id</th>\n",
       "      <th>loan_amnt</th>\n",
       "      <th>funded_amnt</th>\n",
       "      <th>funded_amnt_inv</th>\n",
       "      <th>installment</th>\n",
       "      <th>annual_inc</th>\n",
       "      <th>dti</th>\n",
       "      <th>delinq_2yrs</th>\n",
       "      <th>fico_range_low</th>\n",
       "      <th>fico_range_high</th>\n",
       "      <th>...</th>\n",
       "      <th>num_tl_90g_dpd_24m</th>\n",
       "      <th>num_tl_op_past_12m</th>\n",
       "      <th>pct_tl_nvr_dlq</th>\n",
       "      <th>percent_bc_gt_75</th>\n",
       "      <th>pub_rec_bankruptcies</th>\n",
       "      <th>tax_liens</th>\n",
       "      <th>tot_hi_cred_lim</th>\n",
       "      <th>total_bal_ex_mort</th>\n",
       "      <th>total_bc_limit</th>\n",
       "      <th>total_il_high_credit_limit</th>\n",
       "    </tr>\n",
       "  </thead>\n",
       "  <tbody>\n",
       "    <tr>\n",
       "      <th>count</th>\n",
       "      <td>1.881810e+05</td>\n",
       "      <td>188181.000000</td>\n",
       "      <td>188181.00000</td>\n",
       "      <td>188181.000000</td>\n",
       "      <td>188181.000000</td>\n",
       "      <td>1.881810e+05</td>\n",
       "      <td>188181.000000</td>\n",
       "      <td>188181.000000</td>\n",
       "      <td>188181.000000</td>\n",
       "      <td>188181.000000</td>\n",
       "      <td>...</td>\n",
       "      <td>160440.000000</td>\n",
       "      <td>160440.000000</td>\n",
       "      <td>160287.000000</td>\n",
       "      <td>179153.000000</td>\n",
       "      <td>188181.000000</td>\n",
       "      <td>188181.000000</td>\n",
       "      <td>1.604400e+05</td>\n",
       "      <td>1.806860e+05</td>\n",
       "      <td>180686.000000</td>\n",
       "      <td>1.604400e+05</td>\n",
       "    </tr>\n",
       "    <tr>\n",
       "      <th>mean</th>\n",
       "      <td>5.911942e+06</td>\n",
       "      <td>14354.139366</td>\n",
       "      <td>14351.61985</td>\n",
       "      <td>14339.617827</td>\n",
       "      <td>443.736364</td>\n",
       "      <td>7.223328e+04</td>\n",
       "      <td>17.060171</td>\n",
       "      <td>0.239626</td>\n",
       "      <td>696.810119</td>\n",
       "      <td>700.810225</td>\n",
       "      <td>...</td>\n",
       "      <td>0.063737</td>\n",
       "      <td>1.788014</td>\n",
       "      <td>95.399571</td>\n",
       "      <td>53.558127</td>\n",
       "      <td>0.084785</td>\n",
       "      <td>0.014040</td>\n",
       "      <td>1.655453e+05</td>\n",
       "      <td>4.288377e+04</td>\n",
       "      <td>20238.462072</td>\n",
       "      <td>3.438956e+04</td>\n",
       "    </tr>\n",
       "    <tr>\n",
       "      <th>std</th>\n",
       "      <td>3.343860e+06</td>\n",
       "      <td>8114.766207</td>\n",
       "      <td>8112.60861</td>\n",
       "      <td>8107.009785</td>\n",
       "      <td>242.646904</td>\n",
       "      <td>5.182459e+04</td>\n",
       "      <td>7.597634</td>\n",
       "      <td>0.703730</td>\n",
       "      <td>29.958302</td>\n",
       "      <td>29.958829</td>\n",
       "      <td>...</td>\n",
       "      <td>0.367567</td>\n",
       "      <td>1.516775</td>\n",
       "      <td>7.391559</td>\n",
       "      <td>34.148169</td>\n",
       "      <td>0.290168</td>\n",
       "      <td>0.241542</td>\n",
       "      <td>1.672533e+05</td>\n",
       "      <td>4.017789e+04</td>\n",
       "      <td>18883.558196</td>\n",
       "      <td>3.687963e+04</td>\n",
       "    </tr>\n",
       "    <tr>\n",
       "      <th>min</th>\n",
       "      <td>1.495120e+05</td>\n",
       "      <td>1000.000000</td>\n",
       "      <td>1000.00000</td>\n",
       "      <td>950.000000</td>\n",
       "      <td>21.620000</td>\n",
       "      <td>4.800000e+03</td>\n",
       "      <td>0.000000</td>\n",
       "      <td>0.000000</td>\n",
       "      <td>660.000000</td>\n",
       "      <td>664.000000</td>\n",
       "      <td>...</td>\n",
       "      <td>0.000000</td>\n",
       "      <td>0.000000</td>\n",
       "      <td>15.000000</td>\n",
       "      <td>0.000000</td>\n",
       "      <td>0.000000</td>\n",
       "      <td>0.000000</td>\n",
       "      <td>0.000000e+00</td>\n",
       "      <td>0.000000e+00</td>\n",
       "      <td>0.000000</td>\n",
       "      <td>0.000000e+00</td>\n",
       "    </tr>\n",
       "    <tr>\n",
       "      <th>25%</th>\n",
       "      <td>2.216730e+06</td>\n",
       "      <td>8000.000000</td>\n",
       "      <td>8000.00000</td>\n",
       "      <td>8000.000000</td>\n",
       "      <td>269.980000</td>\n",
       "      <td>4.500000e+04</td>\n",
       "      <td>11.340000</td>\n",
       "      <td>0.000000</td>\n",
       "      <td>675.000000</td>\n",
       "      <td>679.000000</td>\n",
       "      <td>...</td>\n",
       "      <td>0.000000</td>\n",
       "      <td>1.000000</td>\n",
       "      <td>93.000000</td>\n",
       "      <td>25.000000</td>\n",
       "      <td>0.000000</td>\n",
       "      <td>0.000000</td>\n",
       "      <td>4.479500e+04</td>\n",
       "      <td>1.890425e+04</td>\n",
       "      <td>7800.000000</td>\n",
       "      <td>1.004950e+04</td>\n",
       "    </tr>\n",
       "    <tr>\n",
       "      <th>50%</th>\n",
       "      <td>6.047773e+06</td>\n",
       "      <td>12175.000000</td>\n",
       "      <td>12125.00000</td>\n",
       "      <td>12100.000000</td>\n",
       "      <td>398.210000</td>\n",
       "      <td>6.200000e+04</td>\n",
       "      <td>16.780000</td>\n",
       "      <td>0.000000</td>\n",
       "      <td>690.000000</td>\n",
       "      <td>694.000000</td>\n",
       "      <td>...</td>\n",
       "      <td>0.000000</td>\n",
       "      <td>2.000000</td>\n",
       "      <td>100.000000</td>\n",
       "      <td>50.000000</td>\n",
       "      <td>0.000000</td>\n",
       "      <td>0.000000</td>\n",
       "      <td>1.085000e+05</td>\n",
       "      <td>3.296300e+04</td>\n",
       "      <td>14700.000000</td>\n",
       "      <td>2.575150e+04</td>\n",
       "    </tr>\n",
       "    <tr>\n",
       "      <th>75%</th>\n",
       "      <td>8.721725e+06</td>\n",
       "      <td>20000.000000</td>\n",
       "      <td>20000.00000</td>\n",
       "      <td>19975.000000</td>\n",
       "      <td>578.310000</td>\n",
       "      <td>8.700000e+04</td>\n",
       "      <td>22.580000</td>\n",
       "      <td>0.000000</td>\n",
       "      <td>710.000000</td>\n",
       "      <td>714.000000</td>\n",
       "      <td>...</td>\n",
       "      <td>0.000000</td>\n",
       "      <td>3.000000</td>\n",
       "      <td>100.000000</td>\n",
       "      <td>80.000000</td>\n",
       "      <td>0.000000</td>\n",
       "      <td>0.000000</td>\n",
       "      <td>2.437328e+05</td>\n",
       "      <td>5.385975e+04</td>\n",
       "      <td>26500.000000</td>\n",
       "      <td>4.693525e+04</td>\n",
       "    </tr>\n",
       "    <tr>\n",
       "      <th>max</th>\n",
       "      <td>1.209697e+07</td>\n",
       "      <td>35000.000000</td>\n",
       "      <td>35000.00000</td>\n",
       "      <td>35000.000000</td>\n",
       "      <td>1408.130000</td>\n",
       "      <td>7.141778e+06</td>\n",
       "      <td>34.990000</td>\n",
       "      <td>29.000000</td>\n",
       "      <td>845.000000</td>\n",
       "      <td>850.000000</td>\n",
       "      <td>...</td>\n",
       "      <td>24.000000</td>\n",
       "      <td>25.000000</td>\n",
       "      <td>100.000000</td>\n",
       "      <td>100.000000</td>\n",
       "      <td>8.000000</td>\n",
       "      <td>53.000000</td>\n",
       "      <td>9.999999e+06</td>\n",
       "      <td>2.644442e+06</td>\n",
       "      <td>522210.000000</td>\n",
       "      <td>1.214546e+06</td>\n",
       "    </tr>\n",
       "  </tbody>\n",
       "</table>\n",
       "<p>8 rows × 90 columns</p>\n",
       "</div>"
      ],
      "text/plain": [
       "          member_id      loan_amnt   funded_amnt  funded_amnt_inv  \\\n",
       "count  1.881810e+05  188181.000000  188181.00000    188181.000000   \n",
       "mean   5.911942e+06   14354.139366   14351.61985     14339.617827   \n",
       "std    3.343860e+06    8114.766207    8112.60861      8107.009785   \n",
       "min    1.495120e+05    1000.000000    1000.00000       950.000000   \n",
       "25%    2.216730e+06    8000.000000    8000.00000      8000.000000   \n",
       "50%    6.047773e+06   12175.000000   12125.00000     12100.000000   \n",
       "75%    8.721725e+06   20000.000000   20000.00000     19975.000000   \n",
       "max    1.209697e+07   35000.000000   35000.00000     35000.000000   \n",
       "\n",
       "         installment    annual_inc            dti    delinq_2yrs  \\\n",
       "count  188181.000000  1.881810e+05  188181.000000  188181.000000   \n",
       "mean      443.736364  7.223328e+04      17.060171       0.239626   \n",
       "std       242.646904  5.182459e+04       7.597634       0.703730   \n",
       "min        21.620000  4.800000e+03       0.000000       0.000000   \n",
       "25%       269.980000  4.500000e+04      11.340000       0.000000   \n",
       "50%       398.210000  6.200000e+04      16.780000       0.000000   \n",
       "75%       578.310000  8.700000e+04      22.580000       0.000000   \n",
       "max      1408.130000  7.141778e+06      34.990000      29.000000   \n",
       "\n",
       "       fico_range_low  fico_range_high             ...              \\\n",
       "count   188181.000000    188181.000000             ...               \n",
       "mean       696.810119       700.810225             ...               \n",
       "std         29.958302        29.958829             ...               \n",
       "min        660.000000       664.000000             ...               \n",
       "25%        675.000000       679.000000             ...               \n",
       "50%        690.000000       694.000000             ...               \n",
       "75%        710.000000       714.000000             ...               \n",
       "max        845.000000       850.000000             ...               \n",
       "\n",
       "       num_tl_90g_dpd_24m  num_tl_op_past_12m  pct_tl_nvr_dlq  \\\n",
       "count       160440.000000       160440.000000   160287.000000   \n",
       "mean             0.063737            1.788014       95.399571   \n",
       "std              0.367567            1.516775        7.391559   \n",
       "min              0.000000            0.000000       15.000000   \n",
       "25%              0.000000            1.000000       93.000000   \n",
       "50%              0.000000            2.000000      100.000000   \n",
       "75%              0.000000            3.000000      100.000000   \n",
       "max             24.000000           25.000000      100.000000   \n",
       "\n",
       "       percent_bc_gt_75  pub_rec_bankruptcies      tax_liens  tot_hi_cred_lim  \\\n",
       "count     179153.000000         188181.000000  188181.000000     1.604400e+05   \n",
       "mean          53.558127              0.084785       0.014040     1.655453e+05   \n",
       "std           34.148169              0.290168       0.241542     1.672533e+05   \n",
       "min            0.000000              0.000000       0.000000     0.000000e+00   \n",
       "25%           25.000000              0.000000       0.000000     4.479500e+04   \n",
       "50%           50.000000              0.000000       0.000000     1.085000e+05   \n",
       "75%           80.000000              0.000000       0.000000     2.437328e+05   \n",
       "max          100.000000              8.000000      53.000000     9.999999e+06   \n",
       "\n",
       "       total_bal_ex_mort  total_bc_limit  total_il_high_credit_limit  \n",
       "count       1.806860e+05   180686.000000                1.604400e+05  \n",
       "mean        4.288377e+04    20238.462072                3.438956e+04  \n",
       "std         4.017789e+04    18883.558196                3.687963e+04  \n",
       "min         0.000000e+00        0.000000                0.000000e+00  \n",
       "25%         1.890425e+04     7800.000000                1.004950e+04  \n",
       "50%         3.296300e+04    14700.000000                2.575150e+04  \n",
       "75%         5.385975e+04    26500.000000                4.693525e+04  \n",
       "max         2.644442e+06   522210.000000                1.214546e+06  \n",
       "\n",
       "[8 rows x 90 columns]"
      ]
     },
     "execution_count": 4,
     "metadata": {},
     "output_type": "execute_result"
    }
   ],
   "source": [
    "data1.describe()\n"
   ]
  },
  {
   "cell_type": "code",
   "execution_count": 5,
   "metadata": {},
   "outputs": [
    {
     "data": {
      "text/plain": [
       "id                                 object\n",
       "member_id                         float64\n",
       "loan_amnt                         float64\n",
       "funded_amnt                       float64\n",
       "funded_amnt_inv                   float64\n",
       "term                               object\n",
       "int_rate                           object\n",
       "installment                       float64\n",
       "grade                              object\n",
       "sub_grade                          object\n",
       "emp_title                          object\n",
       "emp_length                         object\n",
       "home_ownership                     object\n",
       "annual_inc                        float64\n",
       "verification_status                object\n",
       "issue_d                            object\n",
       "loan_status                        object\n",
       "pymnt_plan                         object\n",
       "url                                object\n",
       "desc                               object\n",
       "purpose                            object\n",
       "title                              object\n",
       "zip_code                           object\n",
       "addr_state                         object\n",
       "dti                               float64\n",
       "delinq_2yrs                       float64\n",
       "earliest_cr_line                   object\n",
       "fico_range_low                    float64\n",
       "fico_range_high                   float64\n",
       "inq_last_6mths                    float64\n",
       "                                   ...   \n",
       "mo_sin_old_rev_tl_op              float64\n",
       "mo_sin_rcnt_rev_tl_op             float64\n",
       "mo_sin_rcnt_tl                    float64\n",
       "mort_acc                          float64\n",
       "mths_since_recent_bc              float64\n",
       "mths_since_recent_bc_dlq          float64\n",
       "mths_since_recent_inq             float64\n",
       "mths_since_recent_revol_delinq    float64\n",
       "num_accts_ever_120_pd             float64\n",
       "num_actv_bc_tl                    float64\n",
       "num_actv_rev_tl                   float64\n",
       "num_bc_sats                       float64\n",
       "num_bc_tl                         float64\n",
       "num_il_tl                         float64\n",
       "num_op_rev_tl                     float64\n",
       "num_rev_accts                     float64\n",
       "num_rev_tl_bal_gt_0               float64\n",
       "num_sats                          float64\n",
       "num_tl_120dpd_2m                  float64\n",
       "num_tl_30dpd                      float64\n",
       "num_tl_90g_dpd_24m                float64\n",
       "num_tl_op_past_12m                float64\n",
       "pct_tl_nvr_dlq                    float64\n",
       "percent_bc_gt_75                  float64\n",
       "pub_rec_bankruptcies              float64\n",
       "tax_liens                         float64\n",
       "tot_hi_cred_lim                   float64\n",
       "total_bal_ex_mort                 float64\n",
       "total_bc_limit                    float64\n",
       "total_il_high_credit_limit        float64\n",
       "Length: 115, dtype: object"
      ]
     },
     "execution_count": 5,
     "metadata": {},
     "output_type": "execute_result"
    }
   ],
   "source": [
    "#check the data types of each column\n",
    "data1.dtypes"
   ]
  },
  {
   "cell_type": "code",
   "execution_count": 6,
   "metadata": {},
   "outputs": [
    {
     "data": {
      "text/plain": [
       "(188183, 90)"
      ]
     },
     "execution_count": 6,
     "metadata": {},
     "output_type": "execute_result"
    }
   ],
   "source": [
    "numeric_features = data1.select_dtypes(include=[np.number])\n",
    "numeric_features.shape # 90 features are numeric"
   ]
  },
  {
   "cell_type": "code",
   "execution_count": 7,
   "metadata": {},
   "outputs": [
    {
     "data": {
      "text/plain": [
       "(188183, 25)"
      ]
     },
     "execution_count": 7,
     "metadata": {},
     "output_type": "execute_result"
    }
   ],
   "source": [
    "non_numeric_features = data1.select_dtypes(exclude=[np.number])\n",
    "non_numeric_features.shape # 25 features are non numeric"
   ]
  },
  {
   "cell_type": "code",
   "execution_count": 8,
   "metadata": {},
   "outputs": [
    {
     "data": {
      "text/plain": [
       "id                     object\n",
       "term                   object\n",
       "int_rate               object\n",
       "grade                  object\n",
       "sub_grade              object\n",
       "emp_title              object\n",
       "emp_length             object\n",
       "home_ownership         object\n",
       "verification_status    object\n",
       "issue_d                object\n",
       "loan_status            object\n",
       "pymnt_plan             object\n",
       "url                    object\n",
       "desc                   object\n",
       "purpose                object\n",
       "title                  object\n",
       "zip_code               object\n",
       "addr_state             object\n",
       "earliest_cr_line       object\n",
       "revol_util             object\n",
       "initial_list_status    object\n",
       "last_pymnt_d           object\n",
       "next_pymnt_d           object\n",
       "last_credit_pull_d     object\n",
       "application_type       object\n",
       "dtype: object"
      ]
     },
     "execution_count": 8,
     "metadata": {},
     "output_type": "execute_result"
    }
   ],
   "source": [
    "non_numeric_features.dtypes #all the dtypes are in object form, look at the columns and convert them into\n",
    "# string if it is a categorical variable and int,float if it is numeric"
   ]
  },
  {
   "cell_type": "code",
   "execution_count": 9,
   "metadata": {},
   "outputs": [
    {
     "data": {
      "text/plain": [
       "Index(['id', 'term', 'int_rate', 'grade', 'sub_grade', 'emp_title',\n",
       "       'emp_length', 'home_ownership', 'verification_status', 'issue_d',\n",
       "       'loan_status', 'pymnt_plan', 'url', 'desc', 'purpose', 'title',\n",
       "       'zip_code', 'addr_state', 'earliest_cr_line', 'revol_util',\n",
       "       'initial_list_status', 'last_pymnt_d', 'next_pymnt_d',\n",
       "       'last_credit_pull_d', 'application_type'],\n",
       "      dtype='object')"
      ]
     },
     "execution_count": 9,
     "metadata": {},
     "output_type": "execute_result"
    }
   ],
   "source": [
    "non_numeric_list = non_numeric_features.columns\n",
    "non_numeric_list"
   ]
  },
  {
   "cell_type": "code",
   "execution_count": 10,
   "metadata": {},
   "outputs": [
    {
     "data": {
      "text/plain": [
       "array([10129506, 10159498, 10129454, ..., '1058291',\n",
       "       'Total amount funded in policy code 1: 2700702175',\n",
       "       'Total amount funded in policy code 2: 81866225'], dtype=object)"
      ]
     },
     "execution_count": 10,
     "metadata": {},
     "output_type": "execute_result"
    }
   ],
   "source": [
    "#see the unique values\n",
    "data1.id.unique()"
   ]
  },
  {
   "cell_type": "code",
   "execution_count": 11,
   "metadata": {},
   "outputs": [
    {
     "name": "stderr",
     "output_type": "stream",
     "text": [
      "C:\\Users\\rishi\\Anaconda3\\envs\\tensorflow\\lib\\site-packages\\ipykernel_launcher.py:2: SettingWithCopyWarning: \n",
      "A value is trying to be set on a copy of a slice from a DataFrame\n",
      "\n",
      "See the caveats in the documentation: http://pandas.pydata.org/pandas-docs/stable/indexing.html#indexing-view-versus-copy\n",
      "  \n",
      "C:\\Users\\rishi\\Anaconda3\\envs\\tensorflow\\lib\\site-packages\\ipykernel_launcher.py:3: SettingWithCopyWarning: \n",
      "A value is trying to be set on a copy of a slice from a DataFrame\n",
      "\n",
      "See the caveats in the documentation: http://pandas.pydata.org/pandas-docs/stable/indexing.html#indexing-view-versus-copy\n",
      "  This is separate from the ipykernel package so we can avoid doing imports until\n"
     ]
    }
   ],
   "source": [
    "#clean the data\n",
    "data1.id[188181] = data1.id[188181].replace('Total amount funded in policy code 1: 2700702175','2700702175')\n",
    "data1.id[188182] = data1.id[188182].replace('Total amount funded in policy code 2: 81866225','81866225')"
   ]
  },
  {
   "cell_type": "code",
   "execution_count": 12,
   "metadata": {},
   "outputs": [
    {
     "data": {
      "text/plain": [
       "dtype('float64')"
      ]
     },
     "execution_count": 12,
     "metadata": {},
     "output_type": "execute_result"
    }
   ],
   "source": [
    "#convert id column into float64\n",
    "data1.id = data1.id.astype(np.float64)\n",
    "data1.id.dtypes"
   ]
  },
  {
   "cell_type": "code",
   "execution_count": 13,
   "metadata": {},
   "outputs": [],
   "source": [
    "data1 = data1[data1.grade.notnull()]"
   ]
  },
  {
   "cell_type": "code",
   "execution_count": 14,
   "metadata": {},
   "outputs": [
    {
     "data": {
      "text/plain": [
       "12.12%    9409\n",
       "13.11%    8257\n",
       "8.90%     7640\n",
       "14.33%    7142\n",
       "7.90%     6612\n",
       "11.14%    6428\n",
       "15.31%    5345\n",
       "16.29%    5030\n",
       "7.62%     4718\n",
       "15.80%    4614\n",
       "17.27%    4454\n",
       "10.16%    4318\n",
       "6.03%     4253\n",
       "14.09%    4247\n",
       "6.62%     3805\n",
       "17.77%    3482\n",
       "11.99%    3384\n",
       "10.99%    3185\n",
       "13.67%    2818\n",
       "18.49%    2777\n",
       "15.61%    2771\n",
       "12.99%    2759\n",
       "12.35%    2546\n",
       "11.55%    2459\n",
       "19.05%    2362\n",
       "10.64%    2314\n",
       "18.75%    2280\n",
       "14.30%    2131\n",
       "16.20%    2088\n",
       "9.71%     2084\n",
       "          ... \n",
       "22.45%     110\n",
       "15.27%     107\n",
       "15.96%     104\n",
       "17.58%      97\n",
       "22.78%      84\n",
       "23.13%      73\n",
       "18.64%      71\n",
       "25.99%      63\n",
       "19.91%      53\n",
       "19.03%      53\n",
       "26.06%      52\n",
       "23.33%      47\n",
       "19.42%      47\n",
       "23.26%      46\n",
       "20.30%      46\n",
       "6.00%       41\n",
       "24.20%      35\n",
       "21.28%      31\n",
       "20.89%      31\n",
       "24.33%      21\n",
       "21.67%      19\n",
       "22.74%      12\n",
       "22.06%      11\n",
       "22.35%      11\n",
       "24.52%       6\n",
       "24.76%       6\n",
       "24.11%       5\n",
       "23.91%       3\n",
       "23.52%       2\n",
       "14.28%       1\n",
       "Name: int_rate, Length: 145, dtype: int64"
      ]
     },
     "execution_count": 14,
     "metadata": {},
     "output_type": "execute_result"
    }
   ],
   "source": [
    "data1.term.value_counts() #2 unique values\n",
    "data1.term.isnull().sum()\n",
    "data1.term = data1.term.fillna('0')\n",
    "term= pd.get_dummies(data1.term,prefix='term')\n",
    "data1 = pd.concat([data1,term],axis=1)\n",
    "data1 = data1.drop('term',axis=1)\n",
    "data1.int_rate.value_counts()"
   ]
  },
  {
   "cell_type": "code",
   "execution_count": 15,
   "metadata": {},
   "outputs": [
    {
     "data": {
      "text/plain": [
       "0"
      ]
     },
     "execution_count": 15,
     "metadata": {},
     "output_type": "execute_result"
    }
   ],
   "source": [
    "\n",
    "data1.grade.value_counts() # 7 unique values\n",
    "data1.grade.isnull().sum()"
   ]
  },
  {
   "cell_type": "code",
   "execution_count": 16,
   "metadata": {},
   "outputs": [],
   "source": [
    "\n",
    "data1.sub_grade.nunique() # 35\n",
    "data1.emp_title.isnull().sum()\n",
    "data1.emp_title = data1.emp_title.fillna('other')"
   ]
  },
  {
   "cell_type": "code",
   "execution_count": 17,
   "metadata": {},
   "outputs": [],
   "source": [
    "#data cleaning\n",
    "dic = {'years':'','year':'','10+ years':'10','< 1 year':'1','n/a':'0','10+':'10','< 1':'1'}\n",
    "\n",
    "def empLength(x):\n",
    "    for k,v in dic.items():\n",
    "        x = x.replace(k,v)\n",
    "    return x\n",
    "   \n",
    "data1.emp_length = data1.emp_length.astype(str)\n",
    "data1.emp_length = data1.emp_length.apply(empLength)\n",
    "data1.emp_length = data1.emp_length.apply(lambda x:  x.replace('s','') if 's' in x else x)\n",
    "data1.emp_length.unique()\n",
    "data1.emp_length.isnull().sum()\n",
    "data1.emp_length = data1.emp_length.astype(np.float32)"
   ]
  },
  {
   "cell_type": "code",
   "execution_count": 18,
   "metadata": {},
   "outputs": [
    {
     "data": {
      "text/plain": [
       "array(['Fully Paid', 'Current', 'Charged Off', 'Late (31-120 days)',\n",
       "       'In Grace Period', 'Late (16-30 days)', 'Default'], dtype=object)"
      ]
     },
     "execution_count": 18,
     "metadata": {},
     "output_type": "execute_result"
    }
   ],
   "source": [
    "data1.home_ownership.unique()\n",
    "home_ownership= pd.get_dummies(data1.home_ownership,prefix='home_ownership')\n",
    "data1 = pd.concat([data1,home_ownership],axis=1)\n",
    "data1 = data1.drop('home_ownership',axis=1)\n",
    "\n",
    "verification_status= pd.get_dummies(data1.verification_status,prefix='verification_status')\n",
    "data1 = pd.concat([data1,verification_status],axis=1)\n",
    "data1 = data1.drop('verification_status',axis=1)\n",
    "\n",
    "data1.issue_d.isnull().sum()\n",
    "data1.issue_d = data1.issue_d.apply(lambda x: parse(x))\n",
    "\n",
    "data1.loan_status.unique()\n",
    "\n",
    "data1.pymnt_plan.unique()\n",
    "\n",
    "data1.title.nunique()\n",
    "\n",
    "data1.revol_util.unique()\n",
    "\n",
    "data1.initial_list_status.unique() \n",
    "\n",
    "data1.last_pymnt_d.isnull().sum()\n",
    "data1.last_pymnt_d.nunique()\n",
    "data1.last_pymnt_d = data1.last_pymnt_d.fillna(method='ffill')\n",
    "data1.last_pymnt_d = data1.last_pymnt_d.apply(lambda x: parse(x))\n",
    "\n",
    "data1.last_credit_pull_d.isnull().sum()\n",
    "data1.last_credit_pull_d.nunique()\n",
    "data1.last_credit_pull_d = data1.last_credit_pull_d.fillna(method='ffill')\n",
    "data1.last_credit_pull_d = data1.last_credit_pull_d.apply(lambda x: parse(x))\n",
    "\n",
    "\n",
    "y = data1.loc[:,['grade']].values\n",
    "\n",
    "data1.int_rate = data1.int_rate.apply(lambda x: x.replace('%','') if '%' in x else x)\n",
    "data1.int_rate = data1.int_rate.astype(np.float32)\n",
    "data1.int_rate = data1.int_rate.apply(lambda x: x/100)\n",
    "\n",
    "data1.loan_status.unique()"
   ]
  },
  {
   "cell_type": "code",
   "execution_count": 19,
   "metadata": {},
   "outputs": [],
   "source": [
    "# predicting grade column\n",
    "X = data1.loc[:,['loan_amnt','funded_amnt','funded_amnt_inv','int_rate']]\n",
    "\n",
    "\n",
    "\n",
    "X_train,X_test,y_train,y_test = train_test_split(X,y,test_size=0.25,random_state=42)\n",
    "\n",
    "\n",
    "sc = StandardScaler()\n",
    "X_train = sc.fit_transform(X_train)\n",
    "X_test = sc.transform(X_test)\n"
   ]
  },
  {
   "cell_type": "code",
   "execution_count": 20,
   "metadata": {},
   "outputs": [
    {
     "name": "stderr",
     "output_type": "stream",
     "text": [
      "C:\\Users\\rishi\\Anaconda3\\envs\\tensorflow\\lib\\site-packages\\ipykernel_launcher.py:5: DataConversionWarning: A column-vector y was passed when a 1d array was expected. Please change the shape of y to (n_samples,), for example using ravel().\n",
      "  \"\"\"\n"
     ]
    },
    {
     "data": {
      "text/plain": [
       "RandomForestClassifier(bootstrap=True, class_weight=None, criterion='entropy',\n",
       "            max_depth=None, max_features='auto', max_leaf_nodes=None,\n",
       "            min_impurity_decrease=0.0, min_impurity_split=None,\n",
       "            min_samples_leaf=1, min_samples_split=2,\n",
       "            min_weight_fraction_leaf=0.0, n_estimators=10, n_jobs=1,\n",
       "            oob_score=False, random_state=0, verbose=0, warm_start=False)"
      ]
     },
     "execution_count": 20,
     "metadata": {},
     "output_type": "execute_result"
    }
   ],
   "source": [
    "#Random Forest\n",
    "\n",
    "\n",
    "model = RandomForestClassifier(n_estimators = 10, criterion = 'entropy', random_state = 0)\n",
    "model.fit(X_train,y_train)"
   ]
  },
  {
   "cell_type": "code",
   "execution_count": 21,
   "metadata": {},
   "outputs": [
    {
     "data": {
      "text/plain": [
       "array(['A', 'A', 'E', ..., 'B', 'C', 'C'], dtype=object)"
      ]
     },
     "execution_count": 21,
     "metadata": {},
     "output_type": "execute_result"
    }
   ],
   "source": [
    "y_pred_grade = model.predict(X_test)\n",
    "y_pred_grade"
   ]
  },
  {
   "cell_type": "code",
   "execution_count": 22,
   "metadata": {},
   "outputs": [
    {
     "data": {
      "text/plain": [
       "array([[ 7184,     0,     0,     0,     0,     0,     0],\n",
       "       [    1, 15761,     1,     1,     0,     0,     0],\n",
       "       [    0,     1, 12517,    10,     0,     1,     0],\n",
       "       [    2,     0,   144,  6697,     1,     0,     0],\n",
       "       [    1,     1,     0,    28,  2933,    14,     0],\n",
       "       [    0,     0,     0,     0,    45,  1397,    13],\n",
       "       [    0,     0,     0,     0,     1,    39,   253]], dtype=int64)"
      ]
     },
     "execution_count": 22,
     "metadata": {},
     "output_type": "execute_result"
    }
   ],
   "source": [
    "cm_random_grade = confusion_matrix(y_test,y_pred_grade)\n",
    "cm_random_grade"
   ]
  },
  {
   "cell_type": "code",
   "execution_count": 24,
   "metadata": {},
   "outputs": [
    {
     "name": "stderr",
     "output_type": "stream",
     "text": [
      "C:\\Users\\rishi\\Anaconda3\\envs\\tensorflow\\lib\\site-packages\\sklearn\\utils\\validation.py:547: DataConversionWarning: A column-vector y was passed when a 1d array was expected. Please change the shape of y to (n_samples, ), for example using ravel().\n",
      "  y = column_or_1d(y, warn=True)\n"
     ]
    },
    {
     "data": {
      "text/plain": [
       "array(['A', 'A', 'E', ..., 'B', 'C', 'C'],\n",
       "      dtype='<U1')"
      ]
     },
     "execution_count": 24,
     "metadata": {},
     "output_type": "execute_result"
    }
   ],
   "source": [
    "#Naive Bayes\n",
    "\n",
    "model_naive = GaussianNB()\n",
    "model_naive.fit(X_train,y_train)\n",
    "y_pred_naive_grade = model_naive.predict(X_test)\n",
    "y_pred_naive_grade\n"
   ]
  },
  {
   "cell_type": "code",
   "execution_count": 25,
   "metadata": {},
   "outputs": [
    {
     "data": {
      "text/plain": [
       "array([[ 7184,     0,     0,     0,     0,     0,     0],\n",
       "       [   36, 14867,   861,     0,     0,     0,     0],\n",
       "       [    4,   723, 11539,   263,     0,     0,     0],\n",
       "       [    3,     0,   261,  6323,   257,     0,     0],\n",
       "       [    3,     0,     0,   199,  2596,   179,     0],\n",
       "       [    0,     0,     0,     0,   140,  1222,    93],\n",
       "       [    0,     0,     0,     0,     2,   128,   163]], dtype=int64)"
      ]
     },
     "execution_count": 25,
     "metadata": {},
     "output_type": "execute_result"
    }
   ],
   "source": [
    "cm_naive_grade= confusion_matrix(y_test,y_pred_naive_grade)\n",
    "cm_naive_grade"
   ]
  },
  {
   "cell_type": "code",
   "execution_count": 26,
   "metadata": {},
   "outputs": [
    {
     "data": {
      "text/plain": [
       "array(['A', 'A', 'E', ..., 'B', 'C', 'C'], dtype=object)"
      ]
     },
     "execution_count": 26,
     "metadata": {},
     "output_type": "execute_result"
    }
   ],
   "source": [
    "#Decision Tree\n",
    "\n",
    "model_DT = DecisionTreeClassifier()\n",
    "model_DT.fit(X_train,y_train)\n",
    "\n",
    "y_pred_DT_grade = model_DT.predict(X_test)\n",
    "y_pred_DT_grade"
   ]
  },
  {
   "cell_type": "code",
   "execution_count": 27,
   "metadata": {},
   "outputs": [
    {
     "data": {
      "text/plain": [
       "array([[ 7184,     0,     0,     0,     0,     0,     0],\n",
       "       [    0, 15762,     0,     2,     0,     0,     0],\n",
       "       [    0,     0, 12519,     9,     0,     1,     0],\n",
       "       [    0,     1,   137,  6706,     0,     0,     0],\n",
       "       [    0,     1,     0,     2,  2974,     0,     0],\n",
       "       [    0,     0,     0,     0,     2,  1446,     7],\n",
       "       [    0,     0,     0,     0,     0,    26,   267]], dtype=int64)"
      ]
     },
     "execution_count": 27,
     "metadata": {},
     "output_type": "execute_result"
    }
   ],
   "source": [
    "cm_DT_grade = confusion_matrix(y_test,y_pred_DT_grade)\n",
    "cm_DT_grade"
   ]
  },
  {
   "cell_type": "code",
   "execution_count": 28,
   "metadata": {},
   "outputs": [],
   "source": [
    "#****************************************************************************************#\n",
    "##############################    Predicting Loan status      ############################\n",
    "#****************************************************************************************#\n",
    "data1.isnull().sum()\n",
    "\n",
    "cols = data1.select_dtypes(include=[np.number])\n",
    "\n",
    "cols_drop_nan = cols.dropna(axis=1)\n",
    "\n",
    "cols_filled_mean = cols.fillna(cols.mean())"
   ]
  },
  {
   "cell_type": "code",
   "execution_count": 30,
   "metadata": {},
   "outputs": [
    {
     "data": {
      "text/plain": [
       "Text(0.5,1,'Box Plot for Loan Amount')"
      ]
     },
     "execution_count": 30,
     "metadata": {},
     "output_type": "execute_result"
    }
   ],
   "source": [
    "#######################  visualization ################################\n",
    "cols_drop_nan.columns\n",
    "\n",
    "######plotting box plot#######\n",
    "plt.figure()\n",
    "plt.boxplot(cols_drop_nan.loan_amnt)\n",
    "plt.ylabel('Loan Amount')\n",
    "plt.title('Box Plot for Loan Amount')"
   ]
  },
  {
   "cell_type": "code",
   "execution_count": 31,
   "metadata": {},
   "outputs": [
    {
     "data": {
      "text/plain": [
       "<matplotlib.axes._subplots.AxesSubplot at 0x27f098834e0>"
      ]
     },
     "execution_count": 31,
     "metadata": {},
     "output_type": "execute_result"
    }
   ],
   "source": [
    "a = cols[['total_pymnt','total_rec_prncp','total_rec_int','total_rec_late_fee']]\n",
    "a.index = data1['last_pymnt_d']\n",
    "\n",
    "a = a.cumsum()\n",
    "a.plot.hist(stacked=True, bins=15,title='Histogram plot')\n",
    "plt.figure()\n",
    "a.iloc[5].plot()"
   ]
  },
  {
   "cell_type": "code",
   "execution_count": 32,
   "metadata": {},
   "outputs": [
    {
     "name": "stderr",
     "output_type": "stream",
     "text": [
      "C:\\Users\\rishi\\Anaconda3\\envs\\tensorflow\\lib\\site-packages\\ipykernel_launcher.py:3: FutureWarning: by argument to sort_index is deprecated, pls use .sort_values(by=...)\n",
      "  This is separate from the ipykernel package so we can avoid doing imports until\n"
     ]
    },
    {
     "data": {
      "text/plain": [
       "<matplotlib.axes._subplots.AxesSubplot at 0x27f18e58128>"
      ]
     },
     "execution_count": 32,
     "metadata": {},
     "output_type": "execute_result"
    }
   ],
   "source": [
    "#### plotting top five received interested rate#####\n",
    "def top_five(df,n=5,column='total_rec_int'):\n",
    "    return df.sort_index(by=column)[-n:]\n",
    "\n",
    "\n",
    "b = top_five(data1)\n",
    "b.index=b['last_pymnt_d']\n",
    "b = b[['total_pymnt','total_rec_prncp','total_rec_int','total_rec_late_fee']]\n",
    "b = b.cumsum()\n",
    "b.plot(kind='barh',title='Top Five Received Interest Rate')\n"
   ]
  },
  {
   "cell_type": "code",
   "execution_count": 33,
   "metadata": {},
   "outputs": [
    {
     "data": {
      "text/plain": [
       "<matplotlib.axes._subplots.AxesSubplot at 0x27f19001860>"
      ]
     },
     "execution_count": 33,
     "metadata": {},
     "output_type": "execute_result"
    }
   ],
   "source": [
    "####Distribution###\n",
    "\n",
    "cols_box1=cols_drop_nan[['loan_amnt','total_pymnt','total_rec_prncp','total_rec_int']]\n",
    "cols_box2=cols_drop_nan[['int_rate','emp_length','dti']]\n",
    "color = dict(boxes='DarkGreen', whiskers='DarkOrange',medians='DarkBlue', caps='Gray')\n",
    "\n",
    "cols_box1.plot.box(color=color, sym='r+',title = 'Distribution of features_1')\n",
    "cols_box2.plot.box(color=color, sym='r+',title = 'Distribution of features_2')"
   ]
  },
  {
   "cell_type": "code",
   "execution_count": 34,
   "metadata": {},
   "outputs": [
    {
     "data": {
      "text/plain": [
       "<matplotlib.axes._subplots.AxesSubplot at 0x27f19da7a58>"
      ]
     },
     "execution_count": 34,
     "metadata": {},
     "output_type": "execute_result"
    }
   ],
   "source": [
    "###### area plot ####\n",
    "df_fico = cols_drop_nan[['fico_range_low','fico_range_high','last_fico_range_high','last_fico_range_low']]\n",
    "df_fico.plot.area()\n",
    "\n",
    "\n",
    "sns.set(style=\"whitegrid\", color_codes=True)\n",
    "sns.stripplot(x=\"loan_amnt\", y=\"loan_status\", data=data1)\n",
    "sns.boxplot(x=\"loan_amnt\", y=\"loan_status\", hue='initial_list_status',data=data1)"
   ]
  },
  {
   "cell_type": "code",
   "execution_count": 35,
   "metadata": {},
   "outputs": [],
   "source": [
    "#@@@@@@@@@@@@@@@@@@@@@@@@@@@@@@@@ Logistic Regression @@@@@@@@@@@@@@@@@@@@@@@@@@@@@@@@@@@@@@@#\n",
    "X_1 = data1.loc[:,cols_drop_nan.columns].values\n",
    "y_lS = data1.loc[:,['loan_status']].values\n",
    "\n",
    "X_train_2,X_test_2,y_train_2,y_test_2 = train_test_split(X_1,y_lS,test_size=0.25,random_state=42)\n",
    "\n",
    "sc2 = StandardScaler()\n",
    "X_train_2 = sc2.fit_transform(X_train_2)\n",
    "X_test_2 = sc2.transform(X_test_2)"
   ]
  },
  {
   "cell_type": "code",
   "execution_count": 36,
   "metadata": {},
   "outputs": [
    {
     "name": "stderr",
     "output_type": "stream",
     "text": [
      "C:\\Users\\rishi\\Anaconda3\\envs\\tensorflow\\lib\\site-packages\\sklearn\\utils\\validation.py:547: DataConversionWarning: A column-vector y was passed when a 1d array was expected. Please change the shape of y to (n_samples, ), for example using ravel().\n",
      "  y = column_or_1d(y, warn=True)\n"
     ]
    },
    {
     "data": {
      "text/plain": [
       "array(['Fully Paid', 'Fully Paid', 'Fully Paid', ..., 'Charged Off',\n",
       "       'Charged Off', 'Charged Off'], dtype=object)"
      ]
     },
     "execution_count": 36,
     "metadata": {},
     "output_type": "execute_result"
    }
   ],
   "source": [
    "model_logistic = LogisticRegression()\n",
    "model_logistic.fit(X_train_2,y_train_2)\n",
    "\n",
    "y_pred_logistic = model_logistic.predict(X_test_2)\n"
   ]
  },
  {
   "cell_type": "code",
   "execution_count": 39,
   "metadata": {},
   "outputs": [
    {
     "data": {
      "text/plain": [
       "(7, 7)"
      ]
     },
     "execution_count": 39,
     "metadata": {},
     "output_type": "execute_result"
    }
   ],
   "source": [
    "cm_logistic = confusion_matrix(y_test_2,y_pred_logistic)\n",
    "cm_logistic\n",
    "cm_logistic.shape"
   ]
  },
  {
   "cell_type": "code",
   "execution_count": 40,
   "metadata": {},
   "outputs": [
    {
     "name": "stderr",
     "output_type": "stream",
     "text": [
      "C:\\Users\\rishi\\Anaconda3\\envs\\tensorflow\\lib\\site-packages\\sklearn\\metrics\\classification.py:1135: UndefinedMetricWarning: Precision and F-score are ill-defined and being set to 0.0 in labels with no predicted samples.\n",
      "  'precision', 'predicted', average, warn_for)\n"
     ]
    },
    {
     "data": {
      "text/plain": [
       "'                    precision    recall  f1-score   support\\n\\n       Charged Off       1.00      0.99      0.99      6833\\n           Current       0.93      0.96      0.94      3945\\n           Default       0.00      0.00      0.00         7\\n        Fully Paid       0.99      1.00      1.00     35932\\n   In Grace Period       0.00      0.00      0.00       105\\n Late (16-30 days)       0.00      0.00      0.00        45\\nLate (31-120 days)       0.23      0.03      0.06       179\\n\\n       avg / total       0.98      0.99      0.98     47046\\n'"
      ]
     },
     "execution_count": 40,
     "metadata": {},
     "output_type": "execute_result"
    }
   ],
   "source": [
    "report_logistic = metrics.classification_report(y_test_2,y_pred_logistic)\n",
    "report_logistic"
   ]
  },
  {
   "cell_type": "code",
   "execution_count": 41,
   "metadata": {},
   "outputs": [
    {
     "data": {
      "text/plain": [
       "array(['Fully Paid', 'Fully Paid', 'Fully Paid', ..., 'Charged Off',\n",
       "       'Charged Off', 'Charged Off'], dtype=object)"
      ]
     },
     "execution_count": 41,
     "metadata": {},
     "output_type": "execute_result"
    }
   ],
   "source": [
    "#@@@@@@@@@@@@@@@@@@@@@@@@@@@@@@@@@@@@@ Decision Tree @@@@@@@@@@@@@@@@@@@@@@@@@@@@@@@@@@@@@@@@@@@@@@@@@@@@@#\n",
    "\n",
    "model_Decision = DecisionTreeClassifier()\n",
    "model_Decision.fit(X_train_2,y_train_2)\n",
    "\n",
    "y_pred_Decision = model_Decision.predict(X_test_2)\n",
    "y_pred_Decision"
   ]
  },
  {
   "cell_type": "code",
   "execution_count": 43,
   "metadata": {},
   "outputs": [
    {
     "data": {
      "text/plain": [
       "array([[ 6769,     0,     0,    64,     0,     0,     0],\n",
       "       [    0,  3671,     1,     2,   115,    51,   105],\n",
       "       [    0,     2,     2,     0,     1,     0,     2],\n",
       "       [   43,     0,     0, 35889,     0,     0,     0],\n",
       "       [    0,    82,     2,     0,     7,     6,     8],\n",
       "       [    0,    39,     0,     0,     3,     1,     2],\n",
       "       [    0,    86,     1,     0,    14,     6,    72]], dtype=int64)"
      ]
     },
     "execution_count": 43,
     "metadata": {},
     "output_type": "execute_result"
    }
   ],
   "source": [
    "cm_Decision = confusion_matrix(y_test_2,y_pred_Decision)\n",
    "cm_Decision\n"
   ]
  },
  {
   "cell_type": "code",
   "execution_count": 44,
   "metadata": {},
   "outputs": [
    {
     "data": {
      "text/plain": [
       "'                    precision    recall  f1-score   support\\n\\n       Charged Off       0.99      0.99      0.99      6833\\n           Current       0.95      0.93      0.94      3945\\n           Default       0.33      0.29      0.31         7\\n        Fully Paid       1.00      1.00      1.00     35932\\n   In Grace Period       0.05      0.07      0.06       105\\n Late (16-30 days)       0.02      0.02      0.02        45\\nLate (31-120 days)       0.38      0.40      0.39       179\\n\\n       avg / total       0.99      0.99      0.99     47046\\n'"
      ]
     },
     "execution_count": 44,
     "metadata": {},
     "output_type": "execute_result"
    }
   ],
   "source": [
    "report_Decision = metrics.classification_report(y_test_2,y_pred_Decision)\n",
    "report_Decision"
   ]
  },
  {
   "cell_type": "code",
   "execution_count": 45,
   "metadata": {},
   "outputs": [
    {
     "name": "stderr",
     "output_type": "stream",
     "text": [
      "C:\\Users\\rishi\\Anaconda3\\envs\\tensorflow\\lib\\site-packages\\sklearn\\utils\\validation.py:547: DataConversionWarning: A column-vector y was passed when a 1d array was expected. Please change the shape of y to (n_samples, ), for example using ravel().\n",
      "  y = column_or_1d(y, warn=True)\n"
     ]
    },
    {
     "data": {
      "text/plain": [
       "array(['Fully Paid', 'Fully Paid', 'Fully Paid', ..., 'Charged Off',\n",
       "       'Late (16-30 days)', 'Charged Off'],\n",
       "      dtype='<U18')"
      ]
     },
     "execution_count": 45,
     "metadata": {},
     "output_type": "execute_result"
    }
   ],
   "source": [
    "#@@@@@@@@@@@@@@@@@@@@@@@@@@@@@@@@@@@@@@@@ Naive Bayes @@@@@@@@@@@@@@@@@@@@@@@@@@@@@@@@@@@@@@@@@@@@@@@@@@@#\n",
    "\n",
    "model_naive = GaussianNB()\n",
    "model_naive.fit(X_train_2,y_train_2)\n",
    "\n",
    "y_pred_naive = model_naive.predict(X_test_2)\n",
    "y_pred_naive"
   ]
  },
  {
   "cell_type": "code",
   "execution_count": 46,
   "metadata": {},
   "outputs": [
    {
     "data": {
      "text/plain": [
       "array([[ 6143,     0,   426,     2,     0,   255,     7],\n",
       "       [    0,    36,   183,     3,    16,  3676,    31],\n",
       "       [    0,     0,     5,     0,     0,     2,     0],\n",
       "       [  141,     1, 21415, 13009,     7,  1358,     1],\n",
       "       [    0,     0,    12,     0,     0,    92,     1],\n",
       "       [    0,     0,     6,     0,     0,    38,     1],\n",
       "       [    0,     3,    27,     0,     1,   142,     6]], dtype=int64)"
      ]
     },
     "execution_count": 46,
     "metadata": {},
     "output_type": "execute_result"
    }
   ],
   "source": [
    "cm_naive = confusion_matrix(y_test_2,y_pred_naive)\n",
    "cm_naive\n"
   ]
  },
  {
   "cell_type": "code",
   "execution_count": 47,
   "metadata": {},
   "outputs": [
    {
     "data": {
      "text/plain": [
       "'                    precision    recall  f1-score   support\\n\\n       Charged Off       0.98      0.90      0.94      6833\\n           Current       0.90      0.01      0.02      3945\\n           Default       0.00      0.71      0.00         7\\n        Fully Paid       1.00      0.36      0.53     35932\\n   In Grace Period       0.00      0.00      0.00       105\\n Late (16-30 days)       0.01      0.84      0.01        45\\nLate (31-120 days)       0.13      0.03      0.05       179\\n\\n       avg / total       0.98      0.41      0.54     47046\\n'"
      ]
     },
     "execution_count": 47,
     "metadata": {},
     "output_type": "execute_result"
    }
   ],
   "source": [
    "report_naive = metrics.classification_report(y_test_2,y_pred_naive)\n",
    "report_naive"
   ]
  },
  {
   "cell_type": "code",
   "execution_count": 48,
   "metadata": {},
   "outputs": [
    {
     "name": "stderr",
     "output_type": "stream",
     "text": [
      "C:\\Users\\rishi\\Anaconda3\\envs\\tensorflow\\lib\\site-packages\\ipykernel_launcher.py:6: DataConversionWarning: A column-vector y was passed when a 1d array was expected. Please change the shape of y to (n_samples, ), for example using ravel().\n",
      "  \n"
     ]
    },
    {
     "data": {
      "text/plain": [
       "array(['Fully Paid', 'Fully Paid', 'Fully Paid', ..., 'Fully Paid',\n",
       "       'Charged Off', 'Charged Off'], dtype=object)"
      ]
     },
     "execution_count": 48,
     "metadata": {},
     "output_type": "execute_result"
    }
   ],
   "source": [
    "#@@@@@@@@@@@@@@@@@@@@@@@@@@@@@@@@@@@@@@@@@@@  KNN  @@@@@@@@@@@@@@@@@@@@@@@@@@@@@@@@@@@@@@@@@@@@@@@@@#\n",
    "\n",
    "\n",
    "\n",
    "model_KNN = KNeighborsClassifier(n_neighbors = 5, metric = 'minkowski', p = 2)\n",
    "model_KNN.fit(X_train_2,y_train_2)\n",
    "\n",
    "y_pred_KNN = model_KNN.predict(X_test_2)\n",
    "y_pred_KNN"
   ]
  },
  {
   "cell_type": "code",
   "execution_count": 49,
   "metadata": {},
   "outputs": [
    {
     "data": {
      "text/plain": [
       "array([[ 5254,    16,     0,  1563,     0,     0,     0],\n",
       "       [   20,  3590,     0,   320,     7,     0,     8],\n",
       "       [    2,     0,     0,     5,     0,     0,     0],\n",
       "       [  312,    33,     0, 35587,     0,     0,     0],\n",
       "       [    0,    87,     0,    17,     0,     0,     1],\n",
       "       [    0,    36,     0,     8,     0,     0,     1],\n",
       "       [   14,   129,     0,    31,     0,     0,     5]], dtype=int64)"
      ]
     },
     "execution_count": 49,
     "metadata": {},
     "output_type": "execute_result"
    }
   ],
   "source": [
    "cm_KNN = confusion_matrix(y_test_2,y_pred_KNN)\n",
    "cm_KNN"
   ]
  },
  {
   "cell_type": "code",
   "execution_count": 50,
   "metadata": {},
   "outputs": [
    {
     "name": "stderr",
     "output_type": "stream",
     "text": [
      "C:\\Users\\rishi\\Anaconda3\\envs\\tensorflow\\lib\\site-packages\\sklearn\\metrics\\classification.py:1135: UndefinedMetricWarning: Precision and F-score are ill-defined and being set to 0.0 in labels with no predicted samples.\n",
      "  'precision', 'predicted', average, warn_for)\n"
     ]
    },
    {
     "data": {
      "text/plain": [
       "'                    precision    recall  f1-score   support\\n\\n       Charged Off       0.94      0.77      0.85      6833\\n           Current       0.92      0.91      0.92      3945\\n           Default       0.00      0.00      0.00         7\\n        Fully Paid       0.95      0.99      0.97     35932\\n   In Grace Period       0.00      0.00      0.00       105\\n Late (16-30 days)       0.00      0.00      0.00        45\\nLate (31-120 days)       0.33      0.03      0.05       179\\n\\n       avg / total       0.94      0.94      0.94     47046\\n'"
      ]
     },
     "execution_count": 50,
     "metadata": {},
     "output_type": "execute_result"
    }
   ],
   "source": [
    "report_KNN = metrics.classification_report(y_test_2,y_pred_KNN)\n",
    "report_KNN"
   ]
  },
  {
   "cell_type": "code",
   "execution_count": 51,
   "metadata": {},
   "outputs": [
    {
     "data": {
      "text/plain": [
       "0.0005132462530260621"
      ]
     },
     "execution_count": 51,
     "metadata": {},
     "output_type": "execute_result"
    }
   ],
   "source": [
    "#@@@@@@@@@@@@@@@@@@@@@@@@@@@ Apllying k-fold Cross Validation @@@@@@@@@@@@@@@@@@@@@@@@@@@@@@@@@@@@@@#\n",
    "y_train_2 = y_train_2.reshape(141135,)\n",
    "accuracies_Decision = cross_val_score(estimator = model_Decision, X = X_train_2, y = y_train_2, cv = 3,n_jobs=-1)\n",
    "accuracies_Decision.mean()\n",
    "accuracies_Decision.std()"
   ]
  },
  {
   "cell_type": "code",
   "execution_count": 52,
   "metadata": {},
   "outputs": [
    {
     "data": {
      "text/plain": [
       "0.00056129138642199196"
      ]
     },
     "execution_count": 52,
     "metadata": {},
     "output_type": "execute_result"
    }
   ],
   "source": [
    "accuracies_logistic = cross_val_score(estimator = model_logistic, X = X_train_2, y = y_train_2, cv = 3,n_jobs=-1)\n",
    "accuracies_logistic.mean()\n",
    "accuracies_logistic.std()"
   ]
  },
  {
   "cell_type": "code",
   "execution_count": null,
   "metadata": {},
   "outputs": [
    {
     "data": {
      "text/plain": [
       "0.067005427099474088"
      ]
     },
     "execution_count": 53,
     "metadata": {},
     "output_type": "execute_result"
    }
   ],
   "source": [
    "accuracies_Naive = cross_val_score(estimator = model_naive, X = X_train_2, y = y_train_2, cv = 3,n_jobs=-1)\n",
    "accuracies_Naive.mean()\n",
    "accuracies_Naive.std()"
   ]
  },
  {
   "cell_type": "code",
   "execution_count": null,
   "metadata": {},
   "outputs": [],
   "source": [
    "accuracies_KNN= cross_val_score(estimator = model_KNN, X = X_train_2, y = y_train_2, cv = 3,n_jobs=-1)\n",
    "accuracies_KNN.mean()\n",
    "accuracies_KNN.std()\n"
   ]
  },
  {
   "cell_type": "code",
   "execution_count": null,
   "metadata": {},
   "outputs": [],
   "source": []
  }
 ],
 "metadata": {
  "kernelspec": {
   "display_name": "Python 3",
   "language": "python",
   "name": "python3"
  },
  "language_info": {
   "codemirror_mode": {
    "name": "ipython",
    "version": 3
   },
   "file_extension": ".py",
   "mimetype": "text/x-python",
   "name": "python",
   "nbconvert_exporter": "python",
   "pygments_lexer": "ipython3",
   "version": "3.5.4"
  }
 },
 "nbformat": 4,
 "nbformat_minor": 2
}
